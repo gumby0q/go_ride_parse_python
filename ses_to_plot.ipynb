{
 "cells": [
  {
   "cell_type": "code",
   "execution_count": 1,
   "metadata": {},
   "outputs": [],
   "source": [
    "import numpy as np\n",
    "import matplotlib.pyplot as plt\n"
   ]
  },
  {
   "cell_type": "code",
   "execution_count": 2,
   "metadata": {},
   "outputs": [],
   "source": [
    "import json\n",
    "import re"
   ]
  },
  {
   "cell_type": "code",
   "execution_count": 15,
   "metadata": {},
   "outputs": [
    {
     "name": "stdout",
     "output_type": "stream",
     "text": [
      "Using matplotlib backend: Qt5Agg\n",
      "495512031.0\n",
      "(8702, 7)\n",
      "7\n",
      "[ 4.95512031e+08  3.45039972e+08  1.12700000e+01 -2.40000000e+00\n",
      "  1.79000000e+02  0.00000000e+00  6.93860000e+04]\n"
     ]
    }
   ],
   "source": [
    "%matplotlib\n",
    "def jsons_from_file():\n",
    "    file_path = './'\n",
    "    file_name = 'SES.TXT'\n",
    "    path_name = file_path + file_name\n",
    "    \n",
    "    jsons = []\n",
    "    \n",
    "    with open(path_name, newline='') as some_file:\n",
    "        file_data = some_file.read()\n",
    "\n",
    "        regex = r\"{.*?}\"\n",
    "        matches = re.finditer(regex, file_data, re.MULTILINE)\n",
    "             \n",
    "        for matchNum, match in enumerate(matches, start=1):\n",
    "            converted_json = json.loads(match.group())\n",
    "            jsons.append(converted_json)\n",
    "        \n",
    "    return jsons\n",
    "\n",
    "def parse_data_to_array(string_data):\n",
    "    DATA_STEP = 7\n",
    "    separated_data = string_data.split(',')\n",
    "    data_length = len(separated_data) // DATA_STEP\n",
    "\n",
    "    data_array = np.empty([data_length, DATA_STEP])\n",
    "    for i in range(0, data_length):\n",
    "        for k in range(0, DATA_STEP):\n",
    "            data_array[i][k] = separated_data[i*DATA_STEP + k]\n",
    "        \n",
    "    return data_array\n",
    "\n",
    "jsons_data = jsons_from_file()\n",
    "\n",
    "# print(len(jsons_data[0]['data']))\n",
    "# print(jsons_data[0]['data'])\n",
    "\n",
    "data_array = parse_data_to_array(jsons_data[0]['data'])\n",
    "print(data_array[0][0])\n",
    "print(data_array.shape)\n",
    "print(len(data_array[0]))\n",
    "print(data_array[0])\n",
    "\n",
    "\n",
    "# print(jsons_data[0]['data'])\n",
    "\n",
    "# for i in data_array:\n",
    "#     print(i)\n",
    "          \n",
    "\"\"\"\n",
    "Parasite axis demo\n",
    "\n",
    "The following code is an example of a parasite axis. It aims to show a user how\n",
    "to plot multiple different values onto one single plot. Notice how in this\n",
    "example, par1 and par2 are both calling twinx meaning both are tied directly to\n",
    "the x-axis. From there, each of those two axis can behave separately from the\n",
    "each other, meaning they can take on separate values from themselves as well as\n",
    "the x-axis.\n",
    "\"\"\"\n",
    "from mpl_toolkits.axes_grid1 import host_subplot\n",
    "import mpl_toolkits.axisartist as AA\n",
    "import matplotlib.pyplot as plt\n",
    "\n",
    "from matplotlib.pyplot import figure\n",
    "figure(num=None, figsize=(15, 7), dpi=80, facecolor='w', edgecolor='k')\n",
    "\n",
    "# fig, axes= plt.subplots(nrows=2, ncols=1,figsize=(6,3))\n",
    "host = host_subplot(111, axes_class=AA.Axes)\n",
    "\n",
    "plt.subplots_adjust(right=0.75)\n",
    "\n",
    "par1 = host.twinx()\n",
    "par2 = host.twinx()\n",
    "par3 = host.twinx()\n",
    "par4 = host.twinx()\n",
    "\n",
    "\n",
    "# host.set_xlim(0, 2)\n",
    "# host.set_ylim(0, 2)\n",
    "\n",
    "# host.set_xlabel(\"Distance\")\n",
    "# host.set_ylabel(\"Density\")\n",
    "# par1.set_ylabel(\"Temperature\")\n",
    "# par2.set_ylabel(\"Velocity\")\n",
    "\n",
    "DATA_LENGTH = 1500\n",
    "# p1, = host.plot([0, 1, 2], [0, 1, 2], label=\"Density\")\n",
    "# p2, = par1.plot([0, 1, 2], [0, 3, 2], label=\"Temperature\")\n",
    "# p3, = par2.plot([0, 1, 2], [50, 30, 15], label=\"Velocity\")\n",
    "\n",
    "# String(pvt.lat)+\",\"+String(pvt.lon)+\",\"+String(pvt.gSpeed/1000.f)+\",\"+String(pitch)+\",\n",
    "# \"+String(pvt.heading/100000)+\",\"+String(g)+\",\"+String(finished)+\",\";\n",
    "\n",
    "\n",
    "p1, = host.plot(data_array[:DATA_LENGTH,0], label=\"latitude\")\n",
    "p2, = par1.plot(data_array[:DATA_LENGTH,1], label=\"logtitude\")\n",
    "p3, = par2.plot(data_array[:DATA_LENGTH,2], label=\"speed\")\n",
    "p4, = par3.plot(data_array[:DATA_LENGTH,3], label=\"pitch\")\n",
    "# p4, = host.plot(data_array[:DATA_LENGTH,3], label=\"Density\")\n",
    "# p5, = host.plot(data_array[:DATA_LENGTH,4], label=\"Density\")\n",
    "# p6, = host.plot(data_array[:DATA_LENGTH,0], label=\"Density\")\n",
    "# p1, = host.plot(data_array[:DATA_LENGTH,0], label=\"Density\")\n",
    "# p1, = host.plot(data_array[:DATA_LENGTH,0], label=\"Density\")\n",
    "\n",
    "# par1.set_ylim(0, 4)\n",
    "# par2.set_ylim(1, 65)\n",
    "\n",
    "offset = 20\n",
    "new_fixed_axis = par4.get_grid_helper().new_fixed_axis\n",
    "par4.axis[\"right\"] = new_fixed_axis(loc=\"right\",\n",
    "                                    axes=par4,\n",
    "                                    offset=(offset, 0))\n",
    "par4.axis[\"right\"].toggle(all=True)\n",
    "\n",
    "host.legend()\n",
    "\n",
    "host.axis[\"left\"].label.set_color(p1.get_color())\n",
    "par1.axis[\"right\"].label.set_color(p2.get_color())\n",
    "# par3.axis[\"right\"].label.set_color(p3.get_color())\n",
    "# par4.axis[\"right\"].label.set_color(p4.get_color())\n",
    "\n",
    "plt.draw()\n",
    "plt.show()\n"
   ]
  },
  {
   "cell_type": "code",
   "execution_count": null,
   "metadata": {},
   "outputs": [],
   "source": []
  },
  {
   "cell_type": "code",
   "execution_count": 4,
   "metadata": {},
   "outputs": [
    {
     "name": "stdout",
     "output_type": "stream",
     "text": [
      "[ 1 10 11 12]\n"
     ]
    }
   ],
   "source": [
    "\n",
    "a = np.array([1])\n",
    " \n",
    "newArray = np.append (a, [10, 11, 12])\n",
    " \n",
    "print(newArray)"
   ]
  },
  {
   "cell_type": "code",
   "execution_count": null,
   "metadata": {},
   "outputs": [],
   "source": []
  }
 ],
 "metadata": {
  "kernelspec": {
   "display_name": "Python 3",
   "language": "python",
   "name": "python3"
  },
  "language_info": {
   "codemirror_mode": {
    "name": "ipython",
    "version": 3
   },
   "file_extension": ".py",
   "mimetype": "text/x-python",
   "name": "python",
   "nbconvert_exporter": "python",
   "pygments_lexer": "ipython3",
   "version": "3.7.3"
  }
 },
 "nbformat": 4,
 "nbformat_minor": 2
}
